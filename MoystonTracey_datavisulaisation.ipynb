{
 "cells": [
  {
   "cell_type": "code",
   "execution_count": 3,
   "id": "82422a69",
   "metadata": {},
   "outputs": [],
   "source": [
    "\n",
    "\n",
    "import pandas as pd \n",
    "import matplotlib.pyplot as plt \n",
    "import seaborn as sns\n",
    "import numpy as np\n",
    "\n",
    "covid_data=pd.read_csv(\"us-counties-recent.csv\");\n",
    "\n",
    "newdata=covid_data[covid_data[\"state\"]==\"Florida\"];\n",
    "\n",
    "agedata=pd.read_csv(\"cc-est2019-agesex-12.csv\");\n",
    "newdata2=agedata[agedata[\"YEAR\"]==12];\n",
    "\n",
    "educ_data=pd.read_csv(\"ACSST1Y2021.S1501-2022-10-17T192910.csv\");\n",
    "\n",
    "eddat=[];\n",
    "columnsdat=[i for i in range(1,len(list(educ_data.columns)),12)];\n",
    "columnsdat.insert(0,0)\n",
    "\n",
    "\n",
    "eddat2=educ_data[educ_data.columns[columnsdat]]\n",
    "\n",
    "\n",
    "\n",
    "# print(y) \n",
    "# newcovdata=newdata[newdata[\"deaths\"]>=1000];\n",
    "# sns.relplot(\n",
    "#     data=newdata[\"deaths\"], x=newdata[\"county\"], y=newdata[\"deaths\"]).set(xticklabels=[],title='Covid deaths per Florida county')\n"
   ]
  },
  {
   "cell_type": "code",
   "execution_count": 3,
   "id": "4858f884",
   "metadata": {},
   "outputs": [
    {
     "ename": "NameError",
     "evalue": "name 'newcovdata' is not defined",
     "output_type": "error",
     "traceback": [
      "\u001b[0;31m---------------------------------------------------------------------------\u001b[0m",
      "\u001b[0;31mNameError\u001b[0m                                 Traceback (most recent call last)",
      "Input \u001b[0;32mIn [3]\u001b[0m, in \u001b[0;36m<cell line: 1>\u001b[0;34m()\u001b[0m\n\u001b[0;32m----> 1\u001b[0m sns\u001b[38;5;241m.\u001b[39mrelplot(data\u001b[38;5;241m=\u001b[39m\u001b[43mnewcovdata\u001b[49m[\u001b[38;5;124m\"\u001b[39m\u001b[38;5;124mdeaths\u001b[39m\u001b[38;5;124m\"\u001b[39m], x\u001b[38;5;241m=\u001b[39mnewcovdata[\u001b[38;5;124m\"\u001b[39m\u001b[38;5;124mcounty\u001b[39m\u001b[38;5;124m\"\u001b[39m], y\u001b[38;5;241m=\u001b[39mnewcovdata[\u001b[38;5;124m\"\u001b[39m\u001b[38;5;124mdeaths\u001b[39m\u001b[38;5;124m\"\u001b[39m], hue\u001b[38;5;241m=\u001b[39mnewcovdata[\u001b[38;5;124m\"\u001b[39m\u001b[38;5;124mcounty\u001b[39m\u001b[38;5;124m\"\u001b[39m], size\u001b[38;5;241m=\u001b[39mnewcovdata[\u001b[38;5;124m\"\u001b[39m\u001b[38;5;124mdeaths\u001b[39m\u001b[38;5;124m\"\u001b[39m],sizes\u001b[38;5;241m=\u001b[39m(\u001b[38;5;241m10\u001b[39m, \u001b[38;5;241m100\u001b[39m))\u001b[38;5;241m.\u001b[39mset(xticklabels\u001b[38;5;241m=\u001b[39m[], title\u001b[38;5;241m=\u001b[39m\u001b[38;5;124m\"\u001b[39m\u001b[38;5;124mFlorida Counties with covid deaths over 1000\u001b[39m\u001b[38;5;124m\"\u001b[39m)\n",
      "\u001b[0;31mNameError\u001b[0m: name 'newcovdata' is not defined"
     ]
    }
   ],
   "source": [
    "sns.relplot(data=newcovdata[\"deaths\"], x=newcovdata[\"county\"], y=newcovdata[\"deaths\"], hue=newcovdata[\"county\"], size=newcovdata[\"deaths\"],sizes=(10, 100)).set(xticklabels=[], title=\"Florida Counties with covid deaths over 1000\")\n"
   ]
  },
  {
   "cell_type": "code",
   "execution_count": 3,
   "id": "7f5ee0d2",
   "metadata": {},
   "outputs": [
    {
     "data": {
      "text/plain": [
       "<seaborn.axisgrid.FacetGrid at 0x7fad6a98b160>"
      ]
     },
     "execution_count": 3,
     "metadata": {},
     "output_type": "execute_result"
    },
    {
     "data": {
      "image/png": "[encoded data removed]",
      "text/plain": [
       "<Figure size 360x360 with 1 Axes>"
      ]
     },
     "metadata": {
      "needs_background": "light"
     },
     "output_type": "display_data"
    }
   ],
   "source": [
    "#median age used for the sake of plotting the data. gives an idea of the counties with older population  \n",
    "\n",
    "sns.relplot(data=newdata2[\"MEDIAN_AGE_TOT\"], x=newdata2[\"CTYNAME\"], y=newdata2[\"MEDIAN_AGE_TOT\"]).set(xticklabels=[],title='Median age per Florida county',xlabel=\"county\",ylabel=\"median age\")\n",
    "\n"
   ]
  },
  {
   "cell_type": "code",
   "execution_count": 20,
   "id": "6b4949de",
   "metadata": {},
   "outputs": [
    {
     "name": "stdout",
     "output_type": "stream",
     "text": [
      "[]\n",
      "             date     county    state     fips   cases  deaths\n",
      "324    2022-09-17    Alachua  Florida  12001.0   83099   739.0\n",
      "326    2022-09-17        Bay  Florida  12005.0   52344   851.0\n",
      "328    2022-09-17    Brevard  Florida  12009.0  164026  2321.0\n",
      "329    2022-09-17    Broward  Florida  12011.0  726187  6333.0\n",
      "331    2022-09-17  Charlotte  Florida  12015.0   44522   900.0\n",
      "...           ...        ...      ...      ...     ...     ...\n",
      "94834  2022-10-16  St. Johns  Florida  12109.0   74282   645.0\n",
      "94835  2022-10-16  St. Lucie  Florida  12111.0   90837  1349.0\n",
      "94836  2022-10-16     Sumter  Florida  12119.0   27825   647.0\n",
      "94841  2022-10-16    Volusia  Florida  12127.0  142429  2198.0\n",
      "94843  2022-10-16     Walton  Florida  12131.0   18875   224.0\n",
      "\n",
      "[1230 rows x 6 columns]\n",
      "94777      762.0\n",
      "94779      862.0\n",
      "94781     2368.0\n",
      "94782     6416.0\n",
      "94784      908.0\n",
      "94785     1073.0\n",
      "94786      928.0\n",
      "94787     1108.0\n",
      "94788      437.0\n",
      "94791     3687.0\n",
      "94792     1427.0\n",
      "94793      405.0\n",
      "94802     1218.0\n",
      "94803      754.0\n",
      "94804     4182.0\n",
      "94806      726.0\n",
      "94810     1687.0\n",
      "94811     2398.0\n",
      "94812      743.0\n",
      "94816     1620.0\n",
      "94817     2334.0\n",
      "94818      714.0\n",
      "94819    11817.0\n",
      "94820      132.0\n",
      "94821      326.0\n",
      "94822      736.0\n",
      "94824     3117.0\n",
      "94825     1221.0\n",
      "94826     5670.0\n",
      "94827     2141.0\n",
      "94828     3795.0\n",
      "94829     3264.0\n",
      "94830      448.0\n",
      "94831      673.0\n",
      "94832     1875.0\n",
      "94833     1215.0\n",
      "94834      645.0\n",
      "94835     1349.0\n",
      "94836      647.0\n",
      "94841     2198.0\n",
      "94843      224.0\n",
      "Name: deaths, dtype: float64\n",
      "132.0\n",
      "[0.025385410718970387, 0.053116464252094875, 0.25300535485563497, 0.21743491612783752, 0.08070863103964444, 0.20772827579821299, 0.1626209472076048]\n"
     ]
    },
    {
     "data": {
      "image/png": "[encoded data removed]",
      "text/plain": [
       "<Figure size 432x288 with 1 Axes>"
      ]
     },
     "metadata": {
      "needs_background": "light"
     },
     "output_type": "display_data"
    }
   ],
   "source": [
    "#Education data - looking at the 5 categories \n",
    "#normalized to the total population \n",
    "\n",
    "eddat2.columns = eddat2.columns.str.replace('County, Florida!!Total!!Estimate','')\n",
    "\n",
    "totpop=[int(i.replace(\",\",\"\")) for i in eddat2.iloc[6,1:]];\n",
    "hs_data=[int(i.replace(\",\",\"\")) for i in eddat2.iloc[10,1:]]\n",
    "# less_9=\n",
    "\n",
    "plt.bar(eddat2.iloc[7:14,0],eddat2.iloc[7:14,1])\n",
    "\n",
    "norm_hs=[];\n",
    "\n",
    "\n",
    "for i in range(1,len(totpop)):\n",
    "    norm_hs.append((hs_data[i]/totpop[i]))\n",
    "    \n",
    "# holder=[];\n",
    "# for i in :\n",
    "#     holder.drop\n",
    "\n",
    "\n",
    "\n",
    "\n",
    "\n",
    "print(list(newdata[newdata['county']==\"Baker\"].index))\n",
    "\n",
    "newdata3=[];\n",
    "for j in newdata[\"county\"]:\n",
    "    k=j+' '   \n",
    "    b=list(newdata[newdata['county']==j].index)\n",
    "    if k not in list(eddat2.columns):\n",
    "        newdata=newdata.drop(b)\n",
    "        \n",
    "print(newdata)\n",
    "\n",
    "v=np.max(newdata[\"deaths\"])\n",
    "print(newdata.iloc[(1230-41):1231,5])\n",
    "g=newdata.iloc[(1230-41):1231,5]\n",
    "\n",
    "z=np.min(g)   \n",
    "print(z)\n",
    "\n",
    "f=newdata[newdata['deaths']==v].index\n",
    "d=newdata[newdata['deaths']==z].index\n",
    "countymax=newdata.loc[f[-1]].at[\"county\"]\n",
    "countymin=newdata.loc[d[-1]].at[\"county\"]\n",
    "\n",
    "    \n",
    "# print(eddat2[countymax+' '])\n",
    "# print(eddat2[countymin+' '])\n",
    "\n",
    "md_eddat=[int(eddat2[countymax+' '][i].replace(\",\",\"\"))/int(eddat2[countymax+' '][6].replace(\",\",\"\")) for i in range(7,14)]\n",
    "# print(md_eddat)\n",
    "mon_eddat=[int(eddat2[countymin+' '][i].replace(\",\",\"\"))/int(eddat2[countymin+' '][6].replace(\",\",\"\")) for i in range(7,14)]\n",
    "print(mon_eddat)"
   ]
  },
  {
   "cell_type": "code",
   "execution_count": 19,
   "id": "635e53eb",
   "metadata": {},
   "outputs": [
    {
     "data": {
      "text/plain": [
       "Text(0.5, 1.0, 'Null distribution of U1 for a sample of 5 per group ')"
      ]
     },
     "execution_count": 19,
     "metadata": {},
     "output_type": "execute_result"
    },
    {
     "data": {
      "image/png": "[encoded data removed]",
      "text/plain": [
       "<Figure size 432x288 with 1 Axes>"
      ]
     },
     "metadata": {
      "needs_background": "light"
     },
     "output_type": "display_data"
    }
   ],
   "source": [
    "\n",
    "import itertools \n",
    "\n",
    "r=len(md_eddat); #number of samples in each group\n",
    "x=[i for i in itertools.product([\"J\",\"B\"],repeat=(r*2))]; # for the two groups J and B, finds all possible combinations\n",
    "#allowing for repeats for a length of 10 \n",
    "#print(x)\n",
    "\n",
    "x2=[''.join(x[i]) for i in range(0,len(x))]; #joins the letter combinations to form a string of each combination\n",
    "# print (x2)\n",
    "\n",
    "#it returns combinations where the number of letter repeats is greater than 5 but for this there can only be 5 repeats\n",
    "#per combination so this returns a list of the combinations that only have 5 repeats of each letter \n",
    "y3=[x2[i] for i in range(0,len(x2)) if x2[i].count('J')==r and x2[i].count('B')==r ]; \n",
    "\n",
    "allcounts=[]; #initializes empty vector to add in the number of wins for each combination \n",
    "\n",
    "for i in range(0,len(y3)): #for loop iterates over the list of combinations     \n",
    "    counts=[abs(x-len(y3[i])) for x in range(0,len(y3[i])) if y3[i][x]=='J']; #for each combination if the letter is a J\n",
    "    #it returns the absolute value of the index - the length of the combination to return the rank of the J\n",
    "    allcounts.append((sum(counts)-((r)*((r)+1))/2)); #finds the u value for each combination\n",
    "    #using R1(sum of ranks) - n(n+1)/2 and adds it to a list \n",
    "    \n",
    "\n",
    "plt.hist(allcounts,bins=50); #plots the u values \n",
    "\n",
    "#adds labels to the plots\n",
    "\n",
    "plt.xlabel('U1')\n",
    "plt.ylabel('Frequency')\n",
    "plt.title('Null distribution of U1 for a sample of 5 per group ')"
   ]
  },
  {
   "cell_type": "code",
   "execution_count": 24,
   "id": "b87c2151",
   "metadata": {},
   "outputs": [
    {
     "name": "stdout",
     "output_type": "stream",
     "text": [
      "U1 (a-b) is 23 and U2 is 26\n",
      "the likelihood of a and b being from the same distribution is 0.9015151515151515\n",
      "U and p values from the stats package. U1= 23.0 U2= 23.0 and p is 0.9015151515151516\n"
     ]
    }
   ],
   "source": [
    "#finding whether the following vectors come from the same distribution using the u statistic \n",
    "\n",
    "#vectors with the sample values \n",
    "\n",
    "from scipy import stats \n",
    "\n",
    "u=[]; #initializing the empty list to place the wins inside \n",
    "\n",
    "for i in range(0,len(md_eddat)): #for loop iterating over the length of a \n",
    "    wins=[1 for x in range(0,len(md_eddat)) if mon_eddat[i]>md_eddat[x]]; #loops over all elements of b if the element in a is greater than\n",
    "    #the element in b then a 1 is added to the list \n",
    "    u.append(sum(wins)); # adds the number of wins for each element in a to the list u \n",
    "\n",
    "u1=sum(u) #sums up the total number of wins for a over b to get u1 \n",
    "u2=(len(md_eddat)*len(mon_eddat))-sum(u) #finds u2 using the formula u1+u2= n1*n2\n",
    "\n",
    "\n",
    "#for the two sided p value, finds all u values less than the smaller u value (of u1 and u2) and all u values greater\n",
    "#than the larger u value (of u1 and u2). Divided by the total number of U values in the distribution \n",
    "\n",
    "if u1<u2: \n",
    "    p=(len([x for x in allcounts if x<=u1])+len([x for x in allcounts if x>=u2]))/len(allcounts)\n",
    "else:\n",
    "    p=(len([x for x in allcounts if x>=u1])+len([x for x in allcounts if x<=u2]))/len(allcounts)\n",
    "\n",
    "print(\"U1 (a-b) is\",u1,'and U2 is',u2) \n",
    "print(\"the likelihood of a and b being from the same distribution is\",p)\n",
    "\n",
    "print(\"U and p values from the stats package. U1=\",stats.mannwhitneyu(mon_eddat,md_eddat)[0],\"U2=\",stats.mannwhitneyu(mon_eddat,md_eddat)[0],\"and p is\",stats.mannwhitneyu(mon_eddat,md_eddat)[1])\n",
    "\n"
   ]
  },
  {
   "cell_type": "code",
   "execution_count": 26,
   "id": "0f67d279",
   "metadata": {},
   "outputs": [
    {
     "name": "stdout",
     "output_type": "stream",
     "text": [
      "[515]\n",
      "               CTYNAME  POPESTIMATE  UNDER5_TOT  AGE04_TOT  AGE59_TOT  \\\n",
      "515  Miami-Dade County      2716940      157229     157229     150127   \n",
      "\n",
      "     AGE1014_TOT  AGE1519_TOT  AGE2024_TOT  AGE2529_TOT  AGE3034_TOT  ...  \\\n",
      "515       150969       154003       162524       189314       193704  ...   \n",
      "\n",
      "     AGE4549_TOT  AGE5054_TOT  AGE5559_TOT  AGE6064_TOT  AGE6569_TOT  \\\n",
      "515       197549       195001       189311       155338       133162   \n",
      "\n",
      "     AGE7074_TOT  AGE7579_TOT  AGE8084_TOT  AGE85PLUS_TOT  MEDIAN_AGE_TOT  \n",
      "515       108234        84061        63452          63698            40.4  \n",
      "\n",
      "[1 rows x 22 columns]\n",
      "[0.11312579593218841, 0.11224833820400892, 0.1294978910097389, 0.13934058168380606, 0.14057616288913263, 0.1414503080671638, 0.10618563531031233, 0.0707763145303172, 0.04679897237333176]\n",
      "[0.08646332920191842, 0.08041439887912917, 0.1077221533653069, 0.12246052702484238, 0.12489895996120062, 0.1600339494530366, 0.1575281564908121, 0.11201972301557364, 0.0484588026081802]\n"
     ]
    }
   ],
   "source": [
    "print(list(newdata2[newdata2['CTYNAME']==\"Miami-Dade County\"].index))\n",
    "\n",
    "agedata2=[];\n",
    "\n",
    "\n",
    "\n",
    "columnsdat2=[i for i in range(39,len(list(newdata2.columns)),3)];\n",
    "columnsdat2.insert(0,9)\n",
    "columnsdat2.insert(0,6)\n",
    "columnsdat2.insert(0,4)\n",
    "\n",
    "\n",
    "agedata2=newdata2[newdata2.columns[columnsdat2]]\n",
    "print(agedata2[agedata2['CTYNAME']==\"Miami-Dade County\"])\n",
    "o=list(agedata2[agedata2['CTYNAME']==\"Miami-Dade County\"].index)\n",
    "# mdage=pd.DataFrame(agedata2.loc[o[-1]])\n",
    "mdage=[(agedata2[agedata2['CTYNAME']==\"Miami-Dade County\"].iloc[0,i]+agedata2[agedata2['CTYNAME']==\"Miami-Dade County\"].iloc[0,i+1])/agedata2[agedata2['CTYNAME']==\"Miami-Dade County\"].iloc[0,1] for i in range(3,len(list(agedata2[agedata2['CTYNAME']==\"Miami-Dade County\"].columns))-2,2)]\n",
    "print(mdage)\n",
    "monage= [(agedata2[agedata2['CTYNAME']==\"Monroe County\"].iloc[0,i]+agedata2[agedata2['CTYNAME']==\"Monroe County\"].iloc[0,i+1])/agedata2[agedata2['CTYNAME']==\"Monroe County\"].iloc[0,1] for i in range(3,len(list(agedata2[agedata2['CTYNAME']==\"Monroe County\"].columns))-2,2)]\n",
    "print(monage)\n",
    "\n",
    "\n"
   ]
  },
  {
   "cell_type": "code",
   "execution_count": 12,
   "id": "d954a116",
   "metadata": {},
   "outputs": [
    {
     "data": {
      "text/plain": [
       "Text(0.5, 1.0, 'Null distribution of U1 for a sample of 5 per group ')"
      ]
     },
     "execution_count": 12,
     "metadata": {},
     "output_type": "execute_result"
    },
    {
     "data": {
      "image/png": "[encoded data removed]",
      "text/plain": [
       "<Figure size 432x288 with 1 Axes>"
      ]
     },
     "metadata": {
      "needs_background": "light"
     },
     "output_type": "display_data"
    }
   ],
   "source": [
    "r=len(mdage); #number of samples in each group\n",
    "x=[i for i in itertools.product([\"J\",\"B\"],repeat=(r*2))]; # for the two groups J and B, finds all possible combinations\n",
    "#allowing for repeats for a length of 10 \n",
    "#print(x)\n",
    "\n",
    "x2=[''.join(x[i]) for i in range(0,len(x))]; #joins the letter combinations to form a string of each combination\n",
    "# print (x2)\n",
    "\n",
    "#it returns combinations where the number of letter repeats is greater than 5 but for this there can only be 5 repeats\n",
    "#per combination so this returns a list of the combinations that only have 5 repeats of each letter \n",
    "y3=[x2[i] for i in range(0,len(x2)) if x2[i].count('J')==r and x2[i].count('B')==r ]; \n",
    "\n",
    "allcounts=[]; #initializes empty vector to add in the number of wins for each combination \n",
    "\n",
    "for i in range(0,len(y3)): #for loop iterates over the list of combinations     \n",
    "    counts=[abs(x-len(y3[i])) for x in range(0,len(y3[i])) if y3[i][x]=='J']; #for each combination if the letter is a J\n",
    "    #it returns the absolute value of the index - the length of the combination to return the rank of the J\n",
    "    allcounts.append((sum(counts)-((r)*((r)+1))/2)); #finds the u value for each combination\n",
    "    #using R1(sum of ranks) - n(n+1)/2 and adds it to a list \n",
    "    \n",
    "\n",
    "plt.hist(allcounts,bins=80); #plots the u values \n",
    "\n",
    "#adds labels to the plots\n",
    "\n",
    "plt.xlabel('U1')\n",
    "plt.ylabel('Frequency')\n",
    "plt.title('Null distribution of U1 for a sample of 5 per group ')"
   ]
  },
  {
   "cell_type": "code",
   "execution_count": 25,
   "id": "06129e32",
   "metadata": {},
   "outputs": [
    {
     "name": "stdout",
     "output_type": "stream",
     "text": [
      "U1 (a-b) is 39 and U2 is 42\n",
      "the likelihood of a and b being from the same distribution is 0.9865967365967366\n",
      "U and p values from the stats package. U1= 39.0 U2= 39.0 and p is 0.9296365245070707\n"
     ]
    }
   ],
   "source": [
    "u=[]; #initializing the empty list to place the wins inside \n",
    "\n",
    "for i in range(0,len(mdage)): #for loop iterating over the length of a \n",
    "    wins=[1 for x in range(0,len(monage)) if monage[i]>mdage[x]]; #loops over all elements of b if the element in a is greater than\n",
    "    #the element in b then a 1 is added to the list \n",
    "    u.append(sum(wins)); # adds the number of wins for each element in a to the list u \n",
    "\n",
    "u1=sum(u) #sums up the total number of wins for a over b to get u1 \n",
    "u2=(len(mdage)*len(monage))-sum(u) #finds u2 using the formula u1+u2= n1*n2\n",
    "\n",
    "\n",
    "#for the two sided p value, finds all u values less than the smaller u value (of u1 and u2) and all u values greater\n",
    "#than the larger u value (of u1 and u2). Divided by the total number of U values in the distribution \n",
    "\n",
    "if u1<u2: \n",
    "    p=(len([x for x in allcounts if x<=u1])+len([x for x in allcounts if x>=u2]))/len(allcounts)\n",
    "else:\n",
    "    p=(len([x for x in allcounts if x>=u1])+len([x for x in allcounts if x<=u2]))/len(allcounts)\n",
    "\n",
    "print(\"U1 (a-b) is\",u1,'and U2 is',u2) \n",
    "print(\"the likelihood of a and b being from the same distribution is\",p)\n",
    "\n",
    "print(\"U and p values from the stats package. U1=\",stats.mannwhitneyu(monage,mdage)[0],\"U2=\",stats.mannwhitneyu(monage,mdage)[0],\"and p is\",stats.mannwhitneyu(monage,mdage)[1])\n"
   ]
  },
  {
   "cell_type": "code",
   "execution_count": 7,
   "id": "f6ccdf66",
   "metadata": {},
   "outputs": [
    {
     "data": {
      "text/plain": [
       "[<matplotlib.lines.Line2D at 0x7fdfdb8026a0>]"
      ]
     },
     "execution_count": 7,
     "metadata": {},
     "output_type": "execute_result"
    },
    {
     "data": {
      "image/png": "[encoded data removed]",
      "text/plain": [
       "<Figure size 432x288 with 1 Axes>"
      ]
     },
     "metadata": {
      "needs_background": "light"
     },
     "output_type": "display_data"
    }
   ],
   "source": [
    "histdata=[];\n",
    "mu=42;\n",
    "sigma=np.std(mdage)\n",
    "for i in range(0,1000):\n",
    "    randvals=np.random.normal(mu,sigma,len(mdage)); #takes 5 samples from two normal distributions \n",
    "    randvals1=np.random.normal(mu,sigma,len(monage));\n",
    "    \n",
    "    #finds the pooled standard deviation and the 2 sample t value for the two groups of samples \n",
    "    sp=np.sqrt(((len(mdage)-1)*np.std(randvals,ddof=1)**2+(len(monage)-1)*np.std(randvals1,ddof=1)**2)/(len(randvals)+len(randvals1)-\n",
    "                                                                                      2));\n",
    "    t=((np.mean(randvals)-np.mean(randvals1))/(sp*np.sqrt((1/len(randvals))+(1/len(randvals1)))));\n",
    "    histdata.append(t)\n",
    "\n",
    "#plots the histogram of the two sample t values and the density plot for n=5 \n",
    "x,bins,patches=plt.hist(histdata,bins=100,density=True);\n",
    "plt.plot(bins,stats.norm.pdf(bins))\n"
   ]
  },
  {
   "cell_type": "code",
   "execution_count": 17,
   "id": "2b7846cc",
   "metadata": {},
   "outputs": [
    {
     "name": "stdout",
     "output_type": "stream",
     "text": [
      "1.2070680545297342e-15\n",
      "The likelihood that the heights are from populations with the same mean is 1.0\n",
      "P value from the stats package 9.52911929887523e-16\n"
     ]
    }
   ],
   "source": [
    "n1=len(mdage); #number of samples \n",
    "n2=len(monage);\n",
    "\n",
    "\n",
    "std1=np.std(mdage,ddof=1)/agedata2[agedata2['CTYNAME']==\"Miami-Dade County\"].iloc[0,1]; #standard deviation for both groups of samples \n",
    "std2=np.std(monage,ddof=1)/agedata2[agedata2['CTYNAME']==\"Monroe County\"].iloc[0,1];\n",
    "sp=np.sqrt(((n1-1)*std1**2+(n2-1)*std2**2)/(n1+n2-2));\n",
    "tval_2sample=((np.mean(mdage)/agedata2[agedata2['CTYNAME']==\"Miami-Dade County\"].iloc[0,1]-np.mean(monage)/agedata2[agedata2['CTYNAME']==\"Monroe County\"].iloc[0,1])/(sp*np.sqrt((1/n1)+(1/n2))))\n",
    "print(tval_2sample)\n",
    "p=(sum(histdata>=tval_2sample )/1000)*2 #to account for the negative t value - multiply the p value by 2 \n",
    "print(\"The likelihood that the heights are from populations with the same mean is\",p)\n",
    "print(\"P value from the stats package\",stats.ttest_ind(mdage,monage)[1])"
   ]
  },
  {
   "cell_type": "code",
   "execution_count": 8,
   "id": "6cc5b7ed",
   "metadata": {},
   "outputs": [
    {
     "data": {
      "text/plain": [
       "<AxesSubplot:ylabel='Count'>"
      ]
     },
     "execution_count": 8,
     "metadata": {},
     "output_type": "execute_result"
    },
    {
     "data": {
      "image/png": "[encoded data removed]",
      "text/plain": [
       "<Figure size 432x288 with 1 Axes>"
      ]
     },
     "metadata": {
      "needs_background": "light"
     },
     "output_type": "display_data"
    }
   ],
   "source": [
    "# Set sample size, asssuming an equal # of samples from both groups\n",
    "n = len(mdage);\n",
    "\n",
    "# Get all possible combinations and make list to an array\n",
    "tmp = list(itertools.product([0,1], repeat=2*n))\n",
    "tmp = np.array(tmp).reshape(-1,2*n)\n",
    "\n",
    "# Keep only combinations that makes sense. I.e., combos that have an equal # of \n",
    "# 0s and 1s\n",
    "Keep = (np.sum(tmp==0,axis =1)==n) & (np.sum(tmp==1,axis=1)==n);\n",
    "all_combos = tmp[Keep,:];\n",
    "# print(len(all_combos))\n",
    "# print(all_combos)\n",
    "\n",
    "# Calculate U1 for each possible combination\n",
    "R1 = [] # As a list\n",
    "\n",
    "for m in np.arange(0,len(all_combos)):\n",
    "    tmp = np.sum(np.where(all_combos[m,:]==0)); # Get position of 0 in each row\n",
    "    tmp = tmp + n; \n",
    "    R1.append(tmp)\n",
    "\n",
    "R1 = np.array(R1) #make back into an array.\n",
    "\n",
    "#print(R1)\n",
    "U1 = R1-(n*(n+1))/2\n",
    "#print(U1)\n",
    "sns.histplot(U1, discrete = True)\n",
    "\n",
    "\n"
   ]
  },
  {
   "cell_type": "code",
   "execution_count": 29,
   "id": "3ae0a761",
   "metadata": {},
   "outputs": [
    {
     "name": "stdout",
     "output_type": "stream",
     "text": [
      "MannwhitneyuResult(statistic=39.0, pvalue=0.9296365245070707)\n",
      "0.9314273961332785\n"
     ]
    }
   ],
   "source": [
    "print(stats.mannwhitneyu(monage,mdage))\n",
    "print(sum(U1<=39)/len(U1)*2)"
   ]
  },
  {
   "cell_type": "code",
   "execution_count": 63,
   "id": "1dfeb2d7",
   "metadata": {},
   "outputs": [
    {
     "name": "stdout",
     "output_type": "stream",
     "text": [
      "[80305, 38646, 152992, 496402, 41984, 26465, 42356, 120000, 8939, 231410, 61139, 28970, 32943, 14659, 379756, 43243, 80097, 184904, 85113, 111508, 66810, 43982, 617900, 23999, 24281, 51670, 357981, 74976, 439448, 120715, 275075, 110463, 5809, 100707, 68655, 47422, 140191, 145486, 42981, 109682, 22756]\n",
      "        deaths  age  education\n",
      "94777    762.0    0          1\n",
      "94779    862.0    0          0\n",
      "94781   2368.0    1          1\n",
      "94782   6416.0    0          1\n",
      "94784    908.0    1          0\n",
      "94785   1073.0    1          0\n",
      "94786    928.0    0          0\n",
      "94787   1108.0    1          1\n",
      "94788    437.0    0          0\n",
      "94791   3687.0    0          1\n",
      "94792   1427.0    0          0\n",
      "94793    405.0    1          1\n",
      "94802   1218.0    1          0\n",
      "94803    754.0    1          0\n",
      "94804   4182.0    0          1\n",
      "94806    726.0    1          1\n",
      "94810   1687.0    1          0\n",
      "94811   2398.0    1          1\n",
      "94812    743.0    0          1\n",
      "94816   1620.0    1          1\n",
      "94817   2334.0    1          0\n",
      "94818    714.0    1          1\n",
      "94819  11817.0    0          1\n",
      "94820    132.0    1          1\n",
      "94821    326.0    1          1\n",
      "94822    736.0    0          1\n",
      "94824   3117.0    0          1\n",
      "94825   1221.0    0          0\n",
      "94826   5670.0    1          1\n",
      "94827   2141.0    1          0\n",
      "94828   3795.0    1          1\n",
      "94829   3264.0    0          0\n",
      "94830    448.0    1          0\n",
      "94831    673.0    1          1\n",
      "94832   1875.0    1          0\n",
      "94833   1215.0    0          1\n",
      "94834    645.0    1          1\n",
      "94835   1349.0    0          1\n",
      "94836    647.0    1          1\n",
      "94841   2198.0    1          0\n",
      "94843    224.0    1          1\n",
      "107.10000000000252 2045.9000000000033 -2079.4333333333343 1356.4999999999961\n",
      "                            OLS Regression Results                            \n",
      "==============================================================================\n",
      "Dep. Variable:                 deaths   R-squared:                       0.161\n",
      "Model:                            OLS   Adj. R-squared:                  0.093\n",
      "Method:                 Least Squares   F-statistic:                     2.375\n",
      "Date:                Mon, 24 Oct 2022   Prob (F-statistic):             0.0858\n",
      "Time:                        22:26:51   Log-Likelihood:                -368.46\n",
      "No. Observations:                  41   AIC:                             744.9\n",
      "Df Residuals:                      37   BIC:                             751.8\n",
      "Df Model:                           3                                         \n",
      "Covariance Type:            nonrobust                                         \n",
      "==============================================================================\n",
      "                 coef    std err          t      P>|t|      [0.025      0.975]\n",
      "------------------------------------------------------------------------------\n",
      "const       1356.5000    831.601      1.631      0.111    -328.483    3041.483\n",
      "x1           107.1000   1051.901      0.102      0.919   -2024.254    2238.454\n",
      "x2          2045.9000   1051.901      1.945      0.059     -85.454    4177.254\n",
      "x3         -2079.4333   1340.916     -1.551      0.129   -4796.387     637.521\n",
      "==============================================================================\n",
      "Omnibus:                       36.133   Durbin-Watson:                   1.996\n",
      "Prob(Omnibus):                  0.000   Jarque-Bera (JB):              111.771\n",
      "Skew:                           2.143   Prob(JB):                     5.36e-25\n",
      "Kurtosis:                       9.859   Cond. No.                         8.85\n",
      "==============================================================================\n",
      "\n",
      "Notes:\n",
      "[1] Standard Errors assume that the covariance matrix of the errors is correctly specified.\n"
     ]
    }
   ],
   "source": [
    "from numpy.linalg import inv\n",
    "import statsmodels.api as sm\n",
    "\n",
    "for j in agedata2[\"CTYNAME\"]:\n",
    "    k=j.replace('County','')  \n",
    "    b=list(agedata2[agedata2['CTYNAME']==j].index)\n",
    "    if k not in list(eddat2.columns):\n",
    "        agedata2=agedata2.drop(b)\n",
    "# print(agedata2)\n",
    "\n",
    "totpop=[int(i.replace(\",\",\"\")) for i in eddat2.iloc[6,1:42]];\n",
    "bachdata=[int(i.replace(\",\",\"\")) for i in eddat2.iloc[15,1:42]]\n",
    "print(bachdata)\n",
    "\n",
    "bachperc=[1 if (bachdata[i]/totpop[i])>0.305 else 0 for i in range(0,len(bachdata))]\n",
    "\n",
    "deathdat=[];\n",
    "deathdat=pd.DataFrame(deathdat)\n",
    "deathdat[\"deaths\"]=newdata.iloc[(1230-41):1231,5]\n",
    "deathdat[\"age\"]=[1 if x>42 else 0 for x in agedata2[\"MEDIAN_AGE_TOT\"]]\n",
    "deathdat[\"education\"]=bachperc\n",
    "print(deathdat)\n",
    "\n",
    "X=np.c_[np.ones(len(deathdat)),deathdat[\"age\"],deathdat[\"education\"],np.multiply(deathdat[\"age\"],deathdat[\"education\"])]\n",
    "tmp=inv(np.matmul(np.transpose(X),X))\n",
    "intercept,slope1,slope2,slope3=tmp @np.transpose(X) @ deathdat[\"deaths\"]\n",
    "\n",
    "print(slope1, slope2,slope3, intercept)\n",
    "\n",
    "import statsmodels.api as sm\n",
    "# model=sm.OLS(cardata[\"mpg\"],sm.add_constant(cardata[[\"Group1\",\"Group2\"]])).fit()\n",
    "\n",
    "\n",
    "model=sm.OLS(deathdat[\"deaths\"],X).fit()\n",
    "print(model.summary())"
   ]
  },
  {
   "cell_type": "code",
   "execution_count": null,
   "id": "5da46c1b",
   "metadata": {},
   "outputs": [],
   "source": []
  }
 ],
 "metadata": {
  "kernelspec": {
   "display_name": "Python 3 (ipykernel)",
   "language": "python",
   "name": "python3"
  },
  "language_info": {
   "codemirror_mode": {
    "name": "ipython",
    "version": 3
   },
   "file_extension": ".py",
   "mimetype": "text/x-python",
   "name": "python",
   "nbconvert_exporter": "python",
   "pygments_lexer": "ipython3",
   "version": "3.9.12"
  }
 },
 "nbformat": 4,
 "nbformat_minor": 5
}
